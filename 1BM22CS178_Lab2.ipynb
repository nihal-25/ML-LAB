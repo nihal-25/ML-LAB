{
  "nbformat": 4,
  "nbformat_minor": 0,
  "metadata": {
    "colab": {
      "provenance": [],
      "authorship_tag": "ABX9TyM7wI1bEwjnOKTvzXgfS7Vy",
      "include_colab_link": true
    },
    "kernelspec": {
      "name": "python3",
      "display_name": "Python 3"
    },
    "language_info": {
      "name": "python"
    }
  },
  "cells": [
    {
      "cell_type": "markdown",
      "metadata": {
        "id": "view-in-github",
        "colab_type": "text"
      },
      "source": [
        "<a href=\"https://colab.research.google.com/github/nihal-25/ML-LAB/blob/main/1BM22CS178_Lab2.ipynb\" target=\"_parent\"><img src=\"https://colab.research.google.com/assets/colab-badge.svg\" alt=\"Open In Colab\"/></a>"
      ]
    },
    {
      "cell_type": "code",
      "execution_count": 1,
      "metadata": {
        "id": "vKj8iLI_FngP"
      },
      "outputs": [],
      "source": [
        "import numpy as np\n",
        "import matplotlib.pyplot as plt\n",
        "import pandas as pd\n",
        "import math\n",
        "import copy"
      ]
    },
    {
      "cell_type": "code",
      "source": [
        "dataset = pd.read_csv('weather.csv')\n",
        "X = dataset.iloc[:,:].values\n",
        "X"
      ],
      "metadata": {
        "colab": {
          "base_uri": "https://localhost:8080/"
        },
        "id": "6W-dPMQgGdR0",
        "outputId": "bb327d01-2fac-4ac0-a4dc-8a735842cb15"
      },
      "execution_count": 2,
      "outputs": [
        {
          "output_type": "execute_result",
          "data": {
            "text/plain": [
              "array([[8.0, 24.3, 0.0, ..., 'No', 3.6, 'Yes'],\n",
              "       [14.0, 26.9, 3.6, ..., 'Yes', 3.6, 'Yes'],\n",
              "       [13.7, 23.4, 3.6, ..., 'Yes', 39.8, 'Yes'],\n",
              "       ...,\n",
              "       [12.5, 19.9, 0.0, ..., 'No', 0.0, 'No'],\n",
              "       [12.5, 26.9, 0.0, ..., 'No', 0.0, 'No'],\n",
              "       [12.3, 30.2, 0.0, ..., 'No', 0.0, 'No']], dtype=object)"
            ]
          },
          "metadata": {},
          "execution_count": 2
        }
      ]
    },
    {
      "cell_type": "code",
      "source": [
        "attribute = ['Outlook', 'Temp', 'Humidity', 'Wind']\n"
      ],
      "metadata": {
        "id": "i-HEtQAXGh64"
      },
      "execution_count": 3,
      "outputs": []
    },
    {
      "cell_type": "code",
      "source": [
        "class Node(object):\n",
        "    def __init__(self):\n",
        "        self.value = None\n",
        "        self.decision = None\n",
        "        self.child = None"
      ],
      "metadata": {
        "id": "HlUK0IHxGmWa"
      },
      "execution_count": 4,
      "outputs": []
    },
    {
      "cell_type": "code",
      "source": [
        "def findEntropy(data, rows):\n",
        "    yes=0\n",
        "    no=0\n",
        "    ans=-1\n",
        "    idx=len(data[0])-1\n",
        "    entropy=0\n",
        "\n",
        "    for i in rows:\n",
        "        if data[i][idx]=='Yes':\n",
        "            yes=yes+1\n",
        "        else:\n",
        "            no=no+1\n",
        "\n",
        "    x=yes/(yes+no)\n",
        "    y=no/(yes+no)\n",
        "    if x!=0 and y!=0:\n",
        "        entropy= -1*(x*math.log2(x)+y*math.log2(y))\n",
        "    if x==1:\n",
        "        ans = 1\n",
        "    if y==1:\n",
        "        ans = 0\n",
        "    return entropy, ans"
      ],
      "metadata": {
        "id": "QcGD125PGoy-"
      },
      "execution_count": 5,
      "outputs": []
    },
    {
      "cell_type": "code",
      "source": [
        "def findMaxGain(data, rows, columns):\n",
        "    maxGain = 0\n",
        "    retidx = -1\n",
        "    entropy, ans = findEntropy(data, rows)\n",
        "    if entropy == 0:\n",
        "        \"\"\"if ans == 1:\n",
        "            print(\"Yes\")\n",
        "        else:\n",
        "            print(\"No\")\"\"\"\n",
        "        return maxGain, retidx, ans\n",
        "    for j in columns:\n",
        "        mydict = {}\n",
        "        idx = j\n",
        "        for i in rows:\n",
        "            key = data[i][idx]\n",
        "            if key not in mydict:\n",
        "                mydict[key] = 1\n",
        "            else:\n",
        "                mydict[key] = mydict[key] + 1\n",
        "        gain = entropy\n",
        "\n",
        "        # print(mydict)\n",
        "        for key in mydict:\n",
        "            yes = 0\n",
        "            no = 0\n",
        "            for k in rows:\n",
        "                if data[k][j] == key:\n",
        "                    if data[k][-1] == 'Yes':\n",
        "                        yes = yes + 1\n",
        "                    else:\n",
        "                        no = no + 1\n",
        "            # print(yes, no)\n",
        "            x = yes/(yes+no)\n",
        "            y = no/(yes+no)\n",
        "            # print(x, y)\n",
        "            if x != 0 and y != 0:\n",
        "                gain += (mydict[key] * (x*math.log2(x) + y*math.log2(y)))/14\n",
        "        # print(gain)\n",
        "        if gain > maxGain:\n",
        "            # print(\"hello\")\n",
        "            maxGain = gain\n",
        "            retidx = j\n",
        "\n",
        "    return maxGain, retidx, ans"
      ],
      "metadata": {
        "id": "e91WMWORGqDP"
      },
      "execution_count": 6,
      "outputs": []
    },
    {
      "cell_type": "code",
      "source": [
        "def buildTree(data, rows, columns):\n",
        "\n",
        "    maxGain, idx, ans = findMaxGain(X, rows, columns)\n",
        "    root = Node()\n",
        "    root.childs = []\n",
        "    # print(maxGain)\n",
        "\n",
        "    if maxGain == 0:\n",
        "        if ans == 1:\n",
        "            root.value = 'Yes'\n",
        "        else:\n",
        "            root.value = 'No'\n",
        "        return root\n",
        "\n",
        "    root.value = attribute[idx]\n",
        "    mydict = {}\n",
        "    for i in rows:\n",
        "        key = data[i][idx]\n",
        "        if key not in mydict:\n",
        "            mydict[key] = 1\n",
        "        else:\n",
        "            mydict[key] += 1\n",
        "\n",
        "    newcolumns = copy.deepcopy(columns)\n",
        "    newcolumns.remove(idx)\n",
        "    for key in mydict:\n",
        "        newrows = []\n",
        "        for i in rows:\n",
        "            if data[i][idx] == key:\n",
        "                newrows.append(i)\n",
        "        # print(newrows)\n",
        "        temp = buildTree(data, newrows, newcolumns)\n",
        "        temp.decision = key\n",
        "        root.childs.append(temp)\n",
        "    return root"
      ],
      "metadata": {
        "id": "6bvdFMp7GssJ"
      },
      "execution_count": 7,
      "outputs": []
    },
    {
      "cell_type": "code",
      "source": [
        "def traverse(root, level=0):\n",
        "    # Create indentation based on the level\n",
        "    indent = \"    \" * level  # 4 spaces per level\n",
        "\n",
        "    # Print the decision and value of the current node with indentation\n",
        "    print(f\"{indent}├── Decision: {root.decision}, Value: {root.value}\")\n",
        "\n",
        "    # Traverse the children, if they exist\n",
        "    for i, child in enumerate(root.childs):\n",
        "        if i == len(root.childs) - 1:  # Last child\n",
        "            traverse(child, level + 1)\n",
        "        else:\n",
        "            traverse(child, level + 1)"
      ],
      "metadata": {
        "id": "jasEvIkHGvqX"
      },
      "execution_count": 8,
      "outputs": []
    },
    {
      "cell_type": "code",
      "source": [
        "def calculate():\n",
        "    rows = [i for i in range(0, 14)]\n",
        "    columns = [i for i in range(0, 4)]\n",
        "    root = buildTree(X, rows, columns)\n",
        "    root.decision = 'Start'\n",
        "    traverse(root)"
      ],
      "metadata": {
        "id": "VUh2QBteGyih"
      },
      "execution_count": 9,
      "outputs": []
    },
    {
      "cell_type": "code",
      "source": [
        "calculate()"
      ],
      "metadata": {
        "colab": {
          "base_uri": "https://localhost:8080/"
        },
        "id": "Xym6-hQUG3Oe",
        "outputId": "dd7cdd7d-e4b5-4c25-b576-998ae3edd945"
      },
      "execution_count": 10,
      "outputs": [
        {
          "output_type": "stream",
          "name": "stdout",
          "text": [
            "├── Decision: Start, Value: Outlook\n",
            "    ├── Decision: 8.0, Value: Yes\n",
            "    ├── Decision: 14.0, Value: Yes\n",
            "    ├── Decision: 13.7, Value: Yes\n",
            "    ├── Decision: 13.3, Value: Yes\n",
            "    ├── Decision: 7.6, Value: No\n",
            "    ├── Decision: 6.2, Value: No\n",
            "    ├── Decision: 6.1, Value: No\n",
            "    ├── Decision: 8.3, Value: No\n",
            "    ├── Decision: 8.8, Value: Yes\n",
            "    ├── Decision: 8.4, Value: No\n",
            "    ├── Decision: 9.1, Value: No\n",
            "    ├── Decision: 8.5, Value: No\n",
            "    ├── Decision: 10.1, Value: No\n",
            "    ├── Decision: 12.1, Value: No\n"
          ]
        }
      ]
    },
    {
      "cell_type": "code",
      "source": [
        "from graphviz import Source\n",
        "\n",
        "dot_code = \"\"\"\n",
        "digraph G {\n",
        "    edge [dir=forward]\n",
        "    node [shape=box, style=bold]\n",
        "\n",
        "    A [label=\"OUTLOOK\"]\n",
        "    B [label=\"HUMIDITY\"]\n",
        "    C [label=\"WIND\"]\n",
        "\n",
        "    D [label=\"NO\", shape=plaintext]\n",
        "    E [label=\"YES\", shape=plaintext]\n",
        "    F [label=\"YES\", shape=plaintext]\n",
        "    G [label=\"NO\", shape=plaintext]\n",
        "\n",
        "    A -> B [label=\"SUNNY\"]\n",
        "    A -> E [label=\"OVERCAST\"]\n",
        "    A -> C [label=\"RAIN\"]\n",
        "\n",
        "    B -> D [label=\"HIGH\"]\n",
        "    B -> F [label=\"NORMAL\"]\n",
        "\n",
        "    C -> F [label=\"WEAK\"]\n",
        "    C -> G [label=\"STRONG\"]\n",
        "}\n",
        "\"\"\"\n",
        "\n",
        "s = Source(dot_code, filename=\"decision_tree\", format=\"png\")\n",
        "s.view()"
      ],
      "metadata": {
        "colab": {
          "base_uri": "https://localhost:8080/",
          "height": 35
        },
        "id": "f-SodY8zG6FI",
        "outputId": "590c9920-aa89-4588-8441-1d4097072cbc"
      },
      "execution_count": 11,
      "outputs": [
        {
          "output_type": "execute_result",
          "data": {
            "text/plain": [
              "'decision_tree.png'"
            ],
            "application/vnd.google.colaboratory.intrinsic+json": {
              "type": "string"
            }
          },
          "metadata": {},
          "execution_count": 11
        }
      ]
    }
  ]
}